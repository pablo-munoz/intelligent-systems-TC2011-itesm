{
 "cells": [
  {
   "cell_type": "markdown",
   "metadata": {},
   "source": [
    "# 8 puzzle problem solution by BFS\n",
    "\n",
    "- Student Name: Pablo Muñoz Haro\n",
    "- Student ID: A01222422\n",
    "- Course name: TC2011 INTELLIGENT SYSTEMS\n",
    "- Date: August 12th, 2018\n",
    "- Assignment Name: UnInformed search – BFS\n",
    "- Python version: 3.6.4\n",
    "\n",
    "The 8 puzzle problem is defined as follows: Consider a 3x3 (nine cell) grid. One of the cells is \"blank\" and the rest contains the integers 1 through 8 without repetitions. Obvisouly the grid has the numbers and the blank ordered in some initial arrangement. It is desired to move the \"cells\" around until the grid is in another, target arrangement (say with the blank first and then the numbers in increasing order). You can only move the cells adjacent to the blank and only to the blank's position (think of it as you can swap the blank and one of its neighbors positions). The goal is to come up with a move sequence (left, right, up down) that will take you from the initial configuration to the target configuration.\n",
    "\n",
    "The solution by BFS consists of trying all possible moves at each stage, for this problem, the state of the grid is encoded as a 9-tuple filled with integers. We use a 0 to denote the \"blank\" and the numbers 1 through 8 represent themselves. For example, the state (1, 3, 5, 7, 0, 8, 2, 4, 6) represents the grid:\n",
    "\n",
    "```\n",
    "| 1 | 3 | 5 |\n",
    "| 7 |   | 8 |\n",
    "| 2 | 4 | 6 |\n",
    "```\n",
    "\n",
    "Tuples are used to store the grid state due to their ability to be hashable, which allows us to use them in sets and test for membership easily. For the queue we use python's standard `deque` which allow for very efficient additions and removals both at the start and at the end of the collection.\n",
    "\n",
    "The majority of the work is done by the function `eight_puzzle_breadth_first_search(initial_state, final_state)`.\n",
    "This function mantains a queue (deque) that starts with the initial state. Then, while the queue is not empty and the goal hasn't been reached an element is dequeued from the queue, and every possible neighbor is calculated and put back into the queue (a neighbor is a state that would result from doing an UP, DOWN, LEFT or RIGHT, move). `eight_puzzle_breadth_first_search` implements an inner function `swap` that just makes it easy to swap two elements in a list.\n",
    "\n",
    "To use this notebook simply modify the FINAL_STATE and INITIAL_STATE variables tha appear a few cells below.\n",
    "\n"
   ]
  },
  {
   "cell_type": "code",
   "execution_count": 1,
   "metadata": {},
   "outputs": [],
   "source": [
    "from collections import deque, namedtuple\n",
    "import time"
   ]
  },
  {
   "cell_type": "code",
   "execution_count": 2,
   "metadata": {},
   "outputs": [],
   "source": [
    "eight_puzzle_solution = namedtuple('eight_puzzle_solution', [\n",
    "    'path_to_goal', 'path_cost', 'num_visited_nodes',\n",
    "    'running_time_secs', 'used_memory'\n",
    "])"
   ]
  },
  {
   "cell_type": "code",
   "execution_count": 3,
   "metadata": {},
   "outputs": [],
   "source": [
    "FINAL_STATE = (0, 1, 2, 3, 4, 5, 6, 7, 8)"
   ]
  },
  {
   "cell_type": "code",
   "execution_count": 4,
   "metadata": {},
   "outputs": [],
   "source": [
    "INITIAL_STATE = (7, 2, 4, 5, 0, 6, 8, 3, 1)"
   ]
  },
  {
   "cell_type": "code",
   "execution_count": 5,
   "metadata": {},
   "outputs": [],
   "source": [
    "def eight_puzzle_breadth_first_search(initial_state, final_state):\n",
    "    '''\n",
    "    Solves the eight puzzle problem through the breadth first\n",
    "    search algorithm.\n",
    "    \n",
    "    Args:\n",
    "        initial_state (tuple): A tuple representing the initial\n",
    "            state of the problem. It is assumed that the tuple is\n",
    "            of length 9 and contains the numbers 0 through 8 without\n",
    "            repetitions.\n",
    "        final_state (tuple): A tuple representing the desired final\n",
    "            state of the problem. It is assumed that the tuple is\n",
    "            of length 9 and contains the numbers 0 through 8 without\n",
    "            repetitions.\n",
    "          \n",
    "    Returns:\n",
    "        eight_puzzle_solution namedtuple: A number of statistics\n",
    "            about the solution and the effor it took to achieve it.\n",
    "    '''\n",
    "    BRANCHING_FACTOR = 9\n",
    "    UNIT_COST = 72\n",
    "    \n",
    "    def swap(container, index_1, index_2):\n",
    "        '''\n",
    "        Utility function to swap two elements of a collection.\n",
    "        Used to calculate the next state after moving the 8-puzzle\n",
    "        pivot one spot to the left, right, up or down.\n",
    "        \n",
    "        Args:\n",
    "            container (list): A mutable representation of a state\n",
    "            index_1 (int): One of the indexes to swap\n",
    "            index_2 (int): The other index to swap\n",
    "            \n",
    "        Returns:\n",
    "            None\n",
    "            \n",
    "        Side-Effects:\n",
    "            Mutates container so that elements at positions\n",
    "            index_1 and index_2 are swapped\n",
    "        '''\n",
    "        container[index_1], container[index_2] = container[index_2], container[index_1]\n",
    "    \n",
    "    frontier = deque((initial_state,))\n",
    "    visited = set()\n",
    "    start_time = time.time()\n",
    "    max_queue_size = 1 # Mantain a count of the most number of nodes held in memory at any point\n",
    "    \n",
    "    move_sequences = {\n",
    "        INITIAL_STATE: ''\n",
    "    }\n",
    "    \n",
    "    while len(frontier) is not 0:\n",
    "        if len(frontier) > max_queue_size:\n",
    "            max_queue_size = len(frontier)\n",
    "        \n",
    "        node_to_expand = frontier.popleft()\n",
    "        visited |= {node_to_expand}\n",
    "        \n",
    "        if node_to_expand == FINAL_STATE:\n",
    "            end_time = time.time()\n",
    "            elapsed_time = end_time - start_time\n",
    "            path_to_goal = move_sequences[FINAL_STATE]\n",
    "            path_cost = len(path_to_goal)\n",
    "            num_visited_nodes = len(visited)\n",
    "            used_memory = max_queue_size*UNIT_COST\n",
    "            \n",
    "            return eight_puzzle_solution(\n",
    "                path_to_goal,\n",
    "                path_cost,\n",
    "                num_visited_nodes,\n",
    "                elapsed_time,\n",
    "                used_memory,\n",
    "            )\n",
    "        \n",
    "        pivot_index = node_to_expand.index(0)\n",
    "        neighbors = []\n",
    "        \n",
    "        can_move_left = pivot_index not in (0, 3, 6)\n",
    "        can_move_right = pivot_index not in (2, 5, 8)\n",
    "        can_move_up = pivot_index not in (0, 1, 2)\n",
    "        can_move_down = pivot_index not in (6, 7, 8)\n",
    "        \n",
    "        if can_move_left:\n",
    "            left_neighbor_listform = list(node_to_expand)\n",
    "            swap(left_neighbor_listform, pivot_index, pivot_index - 1)\n",
    "            left_neighbor = tuple(left_neighbor_listform)\n",
    "            if left_neighbor not in move_sequences:\n",
    "                move_sequences[left_neighbor] = move_sequences[node_to_expand] + 'L'\n",
    "            neighbors.append(left_neighbor)\n",
    "            \n",
    "        if can_move_right:\n",
    "            right_neighbor_listform = list(node_to_expand)\n",
    "            swap(right_neighbor_listform, pivot_index, pivot_index + 1)\n",
    "            right_neighbor = tuple(right_neighbor_listform)\n",
    "            if right_neighbor not in move_sequences:\n",
    "                move_sequences[right_neighbor] = move_sequences[node_to_expand] + 'R'\n",
    "            neighbors.append(right_neighbor)\n",
    "\n",
    "        if can_move_up:\n",
    "            up_neighbor_listform = list(node_to_expand)\n",
    "            swap(up_neighbor_listform, pivot_index, pivot_index - 3)\n",
    "            up_neighbor = tuple(up_neighbor_listform)\n",
    "            if up_neighbor not in move_sequences:\n",
    "                move_sequences[up_neighbor] = move_sequences[node_to_expand] + 'U'\n",
    "            neighbors.append(up_neighbor)\n",
    "\n",
    "        if can_move_down:\n",
    "            down_neighbor_listform = list(node_to_expand)\n",
    "            swap(down_neighbor_listform, pivot_index, pivot_index + 3)\n",
    "            down_neighbor = tuple(down_neighbor_listform)\n",
    "            if down_neighbor not in move_sequences:\n",
    "                move_sequences[down_neighbor] = move_sequences[node_to_expand] + 'D'\n",
    "            neighbors.append(down_neighbor)\n",
    "            \n",
    "        for neigh in neighbors:\n",
    "            if neigh not in frontier and neigh not in visited:\n",
    "                frontier.append(neigh)"
   ]
  },
  {
   "cell_type": "code",
   "execution_count": 6,
   "metadata": {},
   "outputs": [],
   "source": [
    "solution = eight_puzzle_breadth_first_search(INITIAL_STATE, FINAL_STATE)"
   ]
  },
  {
   "cell_type": "code",
   "execution_count": 7,
   "metadata": {},
   "outputs": [
    {
     "name": "stdout",
     "output_type": "stream",
     "text": [
      "Path to goal: LURDRDLLURRDLLURRULLDRRULL\n",
      "Cost of path: 26\n",
      "# visisted nodes: 164919\n",
      "Running time: 221.6931688785553\n",
      "Memory used: 1798776\n"
     ]
    }
   ],
   "source": [
    "print('Path to goal: {}'.format(solution.path_to_goal))\n",
    "print('Cost of path: {}'.format(solution.path_cost))\n",
    "print('# visisted nodes: {}'.format(solution.num_visited_nodes))\n",
    "print('Running time: {}'.format(solution.running_time_secs))\n",
    "print('Memory used: {}'.format(solution.used_memory))"
   ]
  }
 ],
 "metadata": {
  "kernelspec": {
   "display_name": "Python 3",
   "language": "python",
   "name": "python3"
  },
  "language_info": {
   "codemirror_mode": {
    "name": "ipython",
    "version": 3
   },
   "file_extension": ".py",
   "mimetype": "text/x-python",
   "name": "python",
   "nbconvert_exporter": "python",
   "pygments_lexer": "ipython3",
   "version": "3.6.4"
  }
 },
 "nbformat": 4,
 "nbformat_minor": 2
}
